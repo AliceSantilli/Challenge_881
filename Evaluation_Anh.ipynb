{
  "nbformat": 4,
  "nbformat_minor": 0,
  "metadata": {
    "colab": {
      "name": "Evaluation.ipynb",
      "provenance": []
    },
    "kernelspec": {
      "name": "python3",
      "display_name": "Python 3"
    }
  },
  "cells": [
    {
      "cell_type": "code",
      "metadata": {
        "id": "7FLGW8uxU8sw",
        "colab_type": "code",
        "colab": {
          "base_uri": "https://localhost:8080/",
          "height": 121
        },
        "outputId": "c0ca13b1-957e-4164-b779-853fd5cb47da"
      },
      "source": [
        "# Mount drive\n",
        "from google.colab import drive\n",
        "drive.mount('/content/drive')"
      ],
      "execution_count": 2,
      "outputs": [
        {
          "output_type": "stream",
          "text": [
            "Go to this URL in a browser: https://accounts.google.com/o/oauth2/auth?client_id=947318989803-6bn6qk8qdgf4n4g3pfee6491hc0brc4i.apps.googleusercontent.com&redirect_uri=urn%3aietf%3awg%3aoauth%3a2.0%3aoob&response_type=code&scope=email%20https%3a%2f%2fwww.googleapis.com%2fauth%2fdocs.test%20https%3a%2f%2fwww.googleapis.com%2fauth%2fdrive%20https%3a%2f%2fwww.googleapis.com%2fauth%2fdrive.photos.readonly%20https%3a%2f%2fwww.googleapis.com%2fauth%2fpeopleapi.readonly\n",
            "\n",
            "Enter your authorization code:\n",
            "··········\n",
            "Mounted at /content/drive\n"
          ],
          "name": "stdout"
        }
      ]
    },
    {
      "cell_type": "code",
      "metadata": {
        "id": "ItGrrBqa5BHd",
        "colab_type": "code",
        "colab": {}
      },
      "source": [
        "import csv\n",
        "import os\n",
        "import sys\n",
        "import numpy as np\n",
        "\n",
        "def readCsv(csvfname):\n",
        "    # read csv to list of lists\n",
        "    with open(csvfname, 'r') as csvf:\n",
        "        reader = csv.reader(csvf)\n",
        "        csvlines = list(reader)\n",
        "    return csvlines"
      ],
      "execution_count": 0,
      "outputs": []
    },
    {
      "cell_type": "code",
      "metadata": {
        "id": "yDqcO_iq_E8Y",
        "colab_type": "code",
        "colab": {}
      },
      "source": [
        "# read in cvs file\n",
        "csvlines = readCsv('/content/drive/My Drive/confusion matrix values.csv')"
      ],
      "execution_count": 0,
      "outputs": []
    },
    {
      "cell_type": "code",
      "metadata": {
        "id": "37wYZ7LVBxIu",
        "colab_type": "code",
        "colab": {}
      },
      "source": [
        "# store values into arrays\n",
        "agreementLevel = [csvlines[1][0], csvlines[2][0], csvlines[3][0], csvlines[4][0]]\n",
        "TPs = [csvlines[1][1], csvlines[2][1], csvlines[3][1], csvlines[4][1]]\n",
        "FPs = [csvlines[1][2], csvlines[2][2], csvlines[3][2], csvlines[4][2]]\n",
        "FNs = [csvlines[1][3], csvlines[2][3], csvlines[3][3], csvlines[4][3]]\n",
        "TNs = [csvlines[1][4], csvlines[2][4], csvlines[3][4], csvlines[4][4]]"
      ],
      "execution_count": 0,
      "outputs": []
    },
    {
      "cell_type": "code",
      "metadata": {
        "id": "Cc84HCdFtv5k",
        "colab_type": "code",
        "colab": {}
      },
      "source": [
        "# calculate sensitivity\n",
        "def sensitivityCal(TP, FN):\n",
        "  TP = float(TP)\n",
        "  FN = float(FN)\n",
        "  sensitivity = round((TP) / (TP + FN), 2) * 100\n",
        "  return sensitivity"
      ],
      "execution_count": 0,
      "outputs": []
    },
    {
      "cell_type": "code",
      "metadata": {
        "id": "DyoAaKGXDKlN",
        "colab_type": "code",
        "outputId": "087c89e9-4310-41ae-994d-1b625ee82a07",
        "colab": {
          "base_uri": "https://localhost:8080/",
          "height": 67
        }
      },
      "source": [
        "# print out sensitivity at each agreement level\n",
        "sensitivitySum = 0\n",
        "for x in range(1,4):\n",
        "  sensitivity = sensitivityCal(TPs[x], FNs[x])\n",
        "  print ('Agreement Level: ', agreementLevel[x], ' ---  Sensitivity: ', sensitivity, '%')\n",
        "  sensitivitySum += sensitivity"
      ],
      "execution_count": 15,
      "outputs": [
        {
          "output_type": "stream",
          "text": [
            "Agreement Level:  1  ---  Sensitivity:  47.0 %\n",
            "Agreement Level:  2  ---  Sensitivity:  71.0 %\n",
            "Agreement Level:  3  ---  Sensitivity:  80.0 %\n"
          ],
          "name": "stdout"
        }
      ]
    },
    {
      "cell_type": "code",
      "metadata": {
        "id": "6_rGod9qUW1W",
        "colab_type": "code",
        "colab": {}
      },
      "source": [
        "# calculate sum of each array and overall accuracy\n",
        "TPsSum = 0\n",
        "TNsSum = 0\n",
        "FPsSum = 0\n",
        "FNsSum = 0\n",
        "for x in range (1, 4): \n",
        "  TPsSum += float(TPs[x])\n",
        "  TNsSum += float(TNs[x])\n",
        "  FPsSum += float(FPs[x])\n",
        "  FNsSum += float(FNs[x])\n",
        "accuracySum = round((TPsSum + TNsSum) / (TPsSum + TNsSum + FPsSum + FNsSum), 2) * 100"
      ],
      "execution_count": 0,
      "outputs": []
    },
    {
      "cell_type": "code",
      "metadata": {
        "id": "0k75aUiQbDY4",
        "colab_type": "code",
        "outputId": "c9c657d9-a860-4376-d4b8-0b05bd0d4e6b",
        "colab": {
          "base_uri": "https://localhost:8080/",
          "height": 34
        }
      },
      "source": [
        "# print out overall accuracy\n",
        "print('Overall accuracy: ', accuracySum, '%')"
      ],
      "execution_count": 17,
      "outputs": [
        {
          "output_type": "stream",
          "text": [
            "Overall accuracy:  42.0 %\n"
          ],
          "name": "stdout"
        }
      ]
    },
    {
      "cell_type": "code",
      "metadata": {
        "id": "SSe4PLJha_m-",
        "colab_type": "code",
        "outputId": "e32f97d7-301f-4455-c59a-46fc938b1dd6",
        "colab": {
          "base_uri": "https://localhost:8080/",
          "height": 34
        }
      },
      "source": [
        "# print out overall sensitivity \n",
        "print('Overall sensitivity: ', sensitivityCal(TPsSum, FNsSum), '%')"
      ],
      "execution_count": 18,
      "outputs": [
        {
          "output_type": "stream",
          "text": [
            "Overall sensitivity:  54.0 %\n"
          ],
          "name": "stdout"
        }
      ]
    }
  ]
}